{
 "cells": [
  {
   "cell_type": "code",
   "execution_count": 2,
   "metadata": {},
   "outputs": [],
   "source": [
    "import pandas as pd\n",
    "import numpy as mp\n",
    "from matplotlib import pyplot\n",
    "import sys\n",
    "import os\n",
    "import numpy as np"
   ]
  },
  {
   "cell_type": "code",
   "execution_count": 3,
   "metadata": {},
   "outputs": [],
   "source": [
    "#Need to specify fields from excel\n",
    "source_filename = \"questions_all.txt\"\n",
    "#file_path = r\"C:\\\\Users\\\\venkati.naidu\\\\hello\\\\Coursera\\\\PytonMaterial\\\\ML\\\\\"\n",
    "file_path = r\"C:\\\\MyAccOneDrive\\\\Python\\\\Projects\\\\AWS_Material\\\\\"\n",
    "\n",
    "source = r'' + file_path + source_filename\n",
    "\n",
    "if not os.path.isfile(source):\n",
    "       print(\"File path {} does not exist. Exiting...\".format(filepath))\n",
    "       sys.exit()    "
   ]
  },
  {
   "cell_type": "code",
   "execution_count": 4,
   "metadata": {},
   "outputs": [],
   "source": [
    "global content\n",
    "with open(source) as fp:\n",
    "        content=''\n",
    "        for line in fp:\n",
    "            if not (line.find('X ') != -1):\n",
    "                content += ' '+line.strip()\n",
    "        #print(\"{}\".format(content))\n"
   ]
  },
  {
   "cell_type": "code",
   "execution_count": 5,
   "metadata": {},
   "outputs": [
    {
     "data": {
      "text/html": [
       "<div>\n",
       "<style scoped>\n",
       "    .dataframe tbody tr th:only-of-type {\n",
       "        vertical-align: middle;\n",
       "    }\n",
       "\n",
       "    .dataframe tbody tr th {\n",
       "        vertical-align: top;\n",
       "    }\n",
       "\n",
       "    .dataframe thead th {\n",
       "        text-align: right;\n",
       "    }\n",
       "</style>\n",
       "<table border=\"1\" class=\"dataframe\">\n",
       "  <thead>\n",
       "    <tr style=\"text-align: right;\">\n",
       "      <th></th>\n",
       "      <th>QNo</th>\n",
       "      <th>QDesc</th>\n",
       "      <th>Answer</th>\n",
       "    </tr>\n",
       "  </thead>\n",
       "  <tbody>\n",
       "    <tr>\n",
       "      <th>10</th>\n",
       "      <td>QUESTION 35</td>\n",
       "      <td>Using the AWS Server Migration Service, what's the maximum number of volumes that can be attached to a VMS during a SMS migration job</td>\n",
       "      <td>22 x 32</td>\n",
       "    </tr>\n",
       "    <tr>\n",
       "      <th>11</th>\n",
       "      <td>QUESTION 36</td>\n",
       "      <td>You wish to exclusively use AWS services to buy a domain name and create a static website. Which of the following combinations will enable you to do so</td>\n",
       "      <td>â€¢Z Amazon Route 53 and Simple Storage Service (S3)</td>\n",
       "    </tr>\n",
       "    <tr>\n",
       "      <th>12</th>\n",
       "      <td>QUESTION 39</td>\n",
       "      <td>You are developing a video conferencing service that translates spoken language to sign language in near real time using AWS Lambda. One of your functions does the heavy video/audio lifting by using common utilities including FFmpeg, Sound eXchange (SOX) and ImageMagick - each provided as a separate layer. Your function is also connected to nltk, the Python Natural Language Toolkit library and your own custom archive with some shared code - both provided as additional layers. You encounter a problem after you've updated your function's configuration to change to the latest version of your code. What are possible reasons for that and how can you resolve that issue</td>\n",
       "      <td>â€¢e' Layers are extracted to the [opt directory in the function execution environment and applied in the order that's specified, merging any folders with the same name. If the same file appears in multiple layers, the version in the last applied layer is used. Rename the conflicting file in your archive.  into a new layer.  â€¢e' When you added the last layer to your function, the previous list was overwritten by the new one. Include all layers every time you update the layer configuration.  â€¢Z You have gone over the 250MB unzipped deployment package size limit. Remove some unused libraries from your own archive.</td>\n",
       "    </tr>\n",
       "    <tr>\n",
       "      <th>13</th>\n",
       "      <td>QUESTION 47</td>\n",
       "      <td>Which of the following are types of virtualization available on AWS</td>\n",
       "      <td>â€¢Z Hardware Virtual Machine (HVM) â€¢e' Paravirtual Machine (PV)</td>\n",
       "    </tr>\n",
       "    <tr>\n",
       "      <th>14</th>\n",
       "      <td>QUESTION 51</td>\n",
       "      <td>A CRM application runs in your data center and you have disaster recovery instances running in the AWS cloud. The on-premises CRM application requires low-latency access to all of the storage, as the entire dataset is accessed frequently. Which architecture will provide the highest performance efficiency for your business</td>\n",
       "      <td>â€¢Z Implement a Storage Gateway Volume Gateway in stored mode and perform snapshots</td>\n",
       "    </tr>\n",
       "  </tbody>\n",
       "</table>\n",
       "</div>"
      ],
      "text/plain": [
       "             QNo  \\\n",
       "10   QUESTION 35   \n",
       "11   QUESTION 36   \n",
       "12   QUESTION 39   \n",
       "13   QUESTION 47   \n",
       "14   QUESTION 51   \n",
       "\n",
       "                                                                                                                                                                                                                                                                                                                                                                                                                                                                                                                                                                                                                                                                                               QDesc  \\\n",
       "10                                                                                                                                                                                                                                                                                                                                                                                                                                                                                                                                                             Using the AWS Server Migration Service, what's the maximum number of volumes that can be attached to a VMS during a SMS migration job   \n",
       "11                                                                                                                                                                                                                                                                                                                                                                                                                                                                                                                                           You wish to exclusively use AWS services to buy a domain name and create a static website. Which of the following combinations will enable you to do so   \n",
       "12   You are developing a video conferencing service that translates spoken language to sign language in near real time using AWS Lambda. One of your functions does the heavy video/audio lifting by using common utilities including FFmpeg, Sound eXchange (SOX) and ImageMagick - each provided as a separate layer. Your function is also connected to nltk, the Python Natural Language Toolkit library and your own custom archive with some shared code - both provided as additional layers. You encounter a problem after you've updated your function's configuration to change to the latest version of your code. What are possible reasons for that and how can you resolve that issue   \n",
       "13                                                                                                                                                                                                                                                                                                                                                                                                                                                                                                                                                                                                                               Which of the following are types of virtualization available on AWS   \n",
       "14                                                                                                                                                                                                                                                                                                                                                               A CRM application runs in your data center and you have disaster recovery instances running in the AWS cloud. The on-premises CRM application requires low-latency access to all of the storage, as the entire dataset is accessed frequently. Which architecture will provide the highest performance efficiency for your business   \n",
       "\n",
       "                                                                                                                                                                                                                                                                                                                                                                                                                                                                                                                                                                                                                                               Answer  \n",
       "10                                                                                                                                                                                                                                                                                                                                                                                                                                                                                                                                                                                                                                           22 x 32   \n",
       "11                                                                                                                                                                                                                                                                                                                                                                                                                                                                                                                                                                                              â€¢Z Amazon Route 53 and Simple Storage Service (S3)   \n",
       "12   â€¢e' Layers are extracted to the [opt directory in the function execution environment and applied in the order that's specified, merging any folders with the same name. If the same file appears in multiple layers, the version in the last applied layer is used. Rename the conflicting file in your archive.  into a new layer.  â€¢e' When you added the last layer to your function, the previous list was overwritten by the new one. Include all layers every time you update the layer configuration.  â€¢Z You have gone over the 250MB unzipped deployment package size limit. Remove some unused libraries from your own archive.   \n",
       "13                                                                                                                                                                                                                                                                                                                                                                                                                                                                                                                                                                               â€¢Z Hardware Virtual Machine (HVM) â€¢e' Paravirtual Machine (PV)    \n",
       "14                                                                                                                                                                                                                                                                                                                                                                                                                                                                                                                                                              â€¢Z Implement a Storage Gateway Volume Gateway in stored mode and perform snapshots   "
      ]
     },
     "execution_count": 5,
     "metadata": {},
     "output_type": "execute_result"
    }
   ],
   "source": [
    "import re\n",
    "\n",
    "df = pd.DataFrame()\n",
    "content_list = content.replace('QUESTION','SPLITHERE QUESTION')\n",
    "content_list = content_list.replace('EXPLANATION:','SPLITEXPLANATION EXPLANATION:')\n",
    "content_list = content_list.replace('SELECTED ',' ')\n",
    "content_list = content_list.split('SPLITHERE')\n",
    "\n",
    "pd.set_option(\"max_colwidth\", None)\n",
    "s = pd.Series(content_list)\n",
    "\n",
    "df[\"QNo\"] = s.str.slice(stop=12)\n",
    "df[\"QDescTemp\"] = s.str.slice(start=12)\n",
    "df[\"QDesc\"] =df[\"QDescTemp\"].str.split('?', expand=True)[0]\n",
    "df[\"Options\"] = df[\"QDescTemp\"].str.split('?', expand=True)[1]\n",
    "#df = df[df['QDesc'].str.contains(search_question)] \n",
    "\n",
    "df[['Answer','Explanation']] = df.Options.apply( \n",
    "   lambda x: pd.Series(str(x).split(\"SPLITEXPLANATION\")))\n",
    "#df = df.set_index('QDesc')\n",
    "df.replace(to_replace=[None], value=np.nan, inplace=True)\n",
    "df.drop(['QDescTemp','Explanation'], axis=1)\n",
    "df = df[['QNo', 'QDesc','Answer']]\n",
    "\n",
    "\n",
    "df.iloc[10:15,0:3]"
   ]
  },
  {
   "cell_type": "code",
   "execution_count": 6,
   "metadata": {},
   "outputs": [
    {
     "data": {
      "text/plain": [
       "QNo       261\n",
       "QDesc     261\n",
       "Answer    261\n",
       "dtype: int64"
      ]
     },
     "execution_count": 6,
     "metadata": {},
     "output_type": "execute_result"
    }
   ],
   "source": [
    "#Type your search i.e. it should be the part of question\n",
    "df.count()"
   ]
  },
  {
   "cell_type": "code",
   "execution_count": null,
   "metadata": {},
   "outputs": [],
   "source": [
    "\n",
    "\n"
   ]
  },
  {
   "cell_type": "code",
   "execution_count": 15,
   "metadata": {},
   "outputs": [
    {
     "name": "stdout",
     "output_type": "stream",
     "text": [
      "Enter your question :You have been evaluating the NACLS in your company. Most of the NACLs are\n"
     ]
    },
    {
     "data": {
      "text/html": [
       "<style  type=\"text/css\" >\n",
       "    #T_a4de0f0a_83f1_11eb_aa72_c8f750348cc5 th {\n",
       "          text-align: left;\n",
       "    }</style><table id=\"T_a4de0f0a_83f1_11eb_aa72_c8f750348cc5\" ><thead>    <tr>        <th class=\"blank level0\" ></th>        <th class=\"col_heading level0 col0\" >QNo</th>        <th class=\"col_heading level0 col1\" >QDesc</th>        <th class=\"col_heading level0 col2\" >Answer</th>    </tr></thead><tbody>\n",
       "        </tbody></table>"
      ],
      "text/plain": [
       "<pandas.io.formats.style.Styler at 0x1901446df40>"
      ]
     },
     "execution_count": 15,
     "metadata": {},
     "output_type": "execute_result"
    }
   ],
   "source": [
    "search_question = input(\"Enter your question :\")\n",
    "df['FoundAns'] = df['QDesc'].str.contains(pat = search_question, regex=False) \n",
    "df2 = df[df['FoundAns']==True]\n",
    "df2.style.set_properties(**{'text-align': 'left'}).set_table_styles([ dict(selector='th', props=[('text-align', 'left')] ) ])\n",
    "df2[['QNo','QDesc','Answer']].head(10).style.set_properties(**{'text-align': 'left'}).set_table_styles([ dict(selector='th', props=[('text-align', 'left')] ) ])"
   ]
  },
  {
   "cell_type": "code",
   "execution_count": 8,
   "metadata": {},
   "outputs": [
    {
     "ename": "ModuleNotFoundError",
     "evalue": "No module named 'urllib2'",
     "output_type": "error",
     "traceback": [
      "\u001b[1;31m---------------------------------------------------------------------------\u001b[0m",
      "\u001b[1;31mModuleNotFoundError\u001b[0m                       Traceback (most recent call last)",
      "\u001b[1;32m<ipython-input-8-feba3493ac84>\u001b[0m in \u001b[0;36m<module>\u001b[1;34m\u001b[0m\n\u001b[1;32m----> 1\u001b[1;33m \u001b[1;32mimport\u001b[0m \u001b[0murllib2\u001b[0m\u001b[1;33m\u001b[0m\u001b[1;33m\u001b[0m\u001b[0m\n\u001b[0m\u001b[0;32m      2\u001b[0m \u001b[1;32mdef\u001b[0m \u001b[0minternet_on\u001b[0m\u001b[1;33m(\u001b[0m\u001b[1;33m)\u001b[0m\u001b[1;33m:\u001b[0m\u001b[1;33m\u001b[0m\u001b[1;33m\u001b[0m\u001b[0m\n\u001b[0;32m      3\u001b[0m     \u001b[1;32mtry\u001b[0m\u001b[1;33m:\u001b[0m\u001b[1;33m\u001b[0m\u001b[1;33m\u001b[0m\u001b[0m\n\u001b[0;32m      4\u001b[0m         \u001b[0murllib2\u001b[0m\u001b[1;33m.\u001b[0m\u001b[0murlopen\u001b[0m\u001b[1;33m(\u001b[0m\u001b[1;34m'http://216.58.192.142'\u001b[0m\u001b[1;33m,\u001b[0m \u001b[0mtimeout\u001b[0m\u001b[1;33m=\u001b[0m\u001b[1;36m1\u001b[0m\u001b[1;33m)\u001b[0m\u001b[1;33m\u001b[0m\u001b[1;33m\u001b[0m\u001b[0m\n\u001b[0;32m      5\u001b[0m         \u001b[1;32mreturn\u001b[0m \u001b[1;32mTrue\u001b[0m\u001b[1;33m\u001b[0m\u001b[1;33m\u001b[0m\u001b[0m\n",
      "\u001b[1;31mModuleNotFoundError\u001b[0m: No module named 'urllib2'"
     ]
    }
   ],
   "source": [
    "import urllib2\n",
    "def internet_on():\n",
    "    try:\n",
    "        urllib2.urlopen('http://216.58.192.142', timeout=1)\n",
    "        return True\n",
    "    except urllib2.URLError as err: \n",
    "        return False\n"
   ]
  },
  {
   "cell_type": "code",
   "execution_count": 10,
   "metadata": {},
   "outputs": [
    {
     "name": "stdout",
     "output_type": "stream",
     "text": [
      "Directory of C:Usersvenkati.naiduhelloedxWeek-3-UNIXWeek-3-UNIX\n",
      "\n",
      "Volume Serial Number is 90E5-5ABE\n",
      "\n",
      "Volume in drive C is OSDisk\n",
      "\n"
     ]
    },
    {
     "name": "stderr",
     "output_type": "stream",
     "text": [
      "File Not Found\n",
      "sh: ./timeit.sh: No such file or directory\n",
      "sh: ./timeit.sh: No such file or directory\n",
      "sh: ./timeit.sh: No such file or directory\n"
     ]
    }
   ],
   "source": [
    "ls *.py | sort -n | xargs -I % sh -c 'echo %; ./timeit.sh %; echo'"
   ]
  },
  {
   "cell_type": "code",
   "execution_count": 21,
   "metadata": {},
   "outputs": [
    {
     "name": "stdout",
     "output_type": "stream",
     "text": [
      "have internet\n"
     ]
    },
    {
     "data": {
      "text/plain": [
       "True"
      ]
     },
     "execution_count": 21,
     "metadata": {},
     "output_type": "execute_result"
    }
   ],
   "source": [
    "try:\n",
    "    import httplib\n",
    "except:\n",
    "    import http.client as httplib\n",
    "\n",
    "def have_internet():\n",
    "    conn = httplib.HTTPConnection(\"www.googlefdfd.com\", timeout=5)\n",
    "    try:\n",
    "        conn.request(\"HEAD\", \"/\")\n",
    "        conn.close()\n",
    "        print(\"have internet\")\n",
    "        return True\n",
    "    except:\n",
    "        print(\"No internet\")\n",
    "        conn.close()\n",
    "        return False\n",
    "\n",
    "have_internet()"
   ]
  },
  {
   "cell_type": "code",
   "execution_count": 25,
   "metadata": {},
   "outputs": [
    {
     "data": {
      "text/plain": [
       "True"
      ]
     },
     "execution_count": 25,
     "metadata": {},
     "output_type": "execute_result"
    }
   ],
   "source": [
    "import requests\n",
    "def web_site_online(url='http://www.google.com/', timeout=5):\n",
    "    try:\n",
    "        req = requests.get(url, timeout=timeout)\n",
    "        # HTTP errors are not raised by default, this statement does that\n",
    "        req.raise_for_status()\n",
    "        return True\n",
    "    except requests.HTTPError as e:\n",
    "        print(\"Checking internet connection failed, status code {0}.\".format(\n",
    "        e.response.status_code))\n",
    "    except requests.ConnectionError:\n",
    "        print(\"No internet connection available.\")\n",
    "    return False\n",
    "\n",
    "web_site_online(url='http://www.google.com/', timeout=5)"
   ]
  },
  {
   "cell_type": "code",
   "execution_count": 27,
   "metadata": {},
   "outputs": [
    {
     "name": "stdout",
     "output_type": "stream",
     "text": [
      "connected\n"
     ]
    }
   ],
   "source": [
    "import urllib\n",
    "\n",
    "def connected(host='http://google.com'):\n",
    "    try:\n",
    "        #urllib.urlopen(host)\n",
    "        urllib.request.urlopen(host)\n",
    "        return True\n",
    "    except:\n",
    "        return False\n",
    "\n",
    "# test\n",
    "print( 'connected' if connected() else 'no internet!' )"
   ]
  },
  {
   "cell_type": "code",
   "execution_count": 32,
   "metadata": {},
   "outputs": [
    {
     "name": "stdout",
     "output_type": "stream",
     "text": [
      "Internet connection detected.\n"
     ]
    },
    {
     "data": {
      "text/plain": [
       "True"
      ]
     },
     "execution_count": 32,
     "metadata": {},
     "output_type": "execute_result"
    }
   ],
   "source": [
    "import requests\n",
    "def internet():\n",
    "    \"\"\"Detect an internet connection.\"\"\"\n",
    "\n",
    "    connection = None\n",
    "    try:\n",
    "        r = requests.get(\"https://google.com\")\n",
    "        r.raise_for_status()\n",
    "        print(\"Internet connection detected.\")\n",
    "        connection = True\n",
    "    except:\n",
    "        print(\"Internet connection not detected.\")\n",
    "        connection = False\n",
    "    finally:\n",
    "        return connection\n",
    "internet()"
   ]
  },
  {
   "cell_type": "code",
   "execution_count": 34,
   "metadata": {},
   "outputs": [
    {
     "name": "stdout",
     "output_type": "stream",
     "text": [
      "Internet connection detected.\n"
     ]
    }
   ],
   "source": [
    "import requests\n",
    "from requests.exceptions import ConnectionError\n",
    "\n",
    "def internet():\n",
    "    \"\"\"Detect an internet connection.\"\"\"\n",
    "\n",
    "    try:\n",
    "        r = requests.get(\"https://google.com\")\n",
    "        r.raise_for_status()\n",
    "        print(\"Internet connection detected.\")\n",
    "    except ConnectionError as e:\n",
    "        print(\"Internet connection not detected.\")\n",
    "        raise e\n",
    "internet()"
   ]
  },
  {
   "cell_type": "code",
   "execution_count": 39,
   "metadata": {},
   "outputs": [],
   "source": [
    "import subprocess\n",
    "\n",
    "def online(timeout):\n",
    "    try:\n",
    "        return subprocess.run(\n",
    "            ['wget', '-q', '--spider', 'google.com'],\n",
    "            timeout=timeout\n",
    "        ).returncode == 0\n",
    "    except subprocess.TimeoutExpired:\n",
    "        return False\n",
    "\n"
   ]
  },
  {
   "cell_type": "code",
   "execution_count": 41,
   "metadata": {},
   "outputs": [
    {
     "data": {
      "text/plain": [
       "False"
      ]
     },
     "execution_count": 41,
     "metadata": {},
     "output_type": "execute_result"
    }
   ],
   "source": [
    "import socket\n",
    "\n",
    "try:\n",
    "    from urllib2 import urlopen, URLError\n",
    "    from urlparse import urlparse\n",
    "except ImportError:  # Python 3\n",
    "    from urllib.parse import urlparse\n",
    "    from urllib.request import urlopen, URLError\n",
    "\n",
    "class InternetChecker(object):\n",
    "    conn_url = 'https://www.google.com/'\n",
    "\n",
    "    def __init__(self):\n",
    "        pass\n",
    "\n",
    "    def test_internet(self):\n",
    "        try:\n",
    "            data = urlopen(self.conn_url, timeout=5)\n",
    "        except URLError:\n",
    "            return False\n",
    "\n",
    "        try:\n",
    "            host = data.fp._sock.fp._sock.getpeername()\n",
    "        except AttributeError:  # Python 3\n",
    "            host = data.fp.raw._sock.getpeername()\n",
    "\n",
    "        # Ensure conn_url is an IPv4 address otherwise future queries will fail\n",
    "        self.conn_url = 'http://' + (host[0] if len(host) == 2 else\n",
    "                                     socket.gethostbyname(urlparse(data.geturl()).hostname))\n",
    "\n",
    "        return True\n",
    "\n",
    "# Usage example\n",
    "checker = InternetChecker()\n",
    "checker.test_internet()"
   ]
  },
  {
   "cell_type": "code",
   "execution_count": 45,
   "metadata": {},
   "outputs": [
    {
     "data": {
      "text/plain": [
       "True"
      ]
     },
     "execution_count": 45,
     "metadata": {},
     "output_type": "execute_result"
    }
   ],
   "source": [
    "#refer the site:https://stackoverflow.com/questions/3764291/checking-network-connection\n",
    "import socket\n",
    "\n",
    "def haveInternet():\n",
    "    try:\n",
    "        # first check if we get the correct IP-Address or just the router's IP-Address\n",
    "        info = socket.getaddrinfo(\"www.google.com\", None)[0]\n",
    "        ipAddr = info[4][0]\n",
    "        if ipAddr == \"192.168.0.1\" :\n",
    "            return False\n",
    "    except:\n",
    "        return False\n",
    "\n",
    "    conn = httplib.HTTPConnection(\"www.google.com\", timeout=5)\n",
    "    try:\n",
    "        conn.request(\"HEAD\", \"/\")\n",
    "        conn.close()\n",
    "        return True\n",
    "    except:\n",
    "        conn.close()\n",
    "        return False\n",
    "\n",
    "haveInternet()"
   ]
  },
  {
   "cell_type": "code",
   "execution_count": 46,
   "metadata": {},
   "outputs": [
    {
     "name": "stdout",
     "output_type": "stream",
     "text": [
      "Collecting bs4\n",
      "  Downloading https://files.pythonhosted.org/packages/10/ed/7e8b97591f6f456174139ec089c769f89a94a1a4025fe967691de971f314/bs4-0.0.1.tar.gz\n",
      "Requirement already satisfied: beautifulsoup4 in c:\\users\\venkati.naidu\\appdata\\local\\continuum\\anaconda3\\lib\\site-packages (from bs4) (4.8.0)\n",
      "Requirement already satisfied: soupsieve>=1.2 in c:\\users\\venkati.naidu\\appdata\\local\\continuum\\anaconda3\\lib\\site-packages (from beautifulsoup4->bs4) (1.9.3)\n",
      "Building wheels for collected packages: bs4\n",
      "  Building wheel for bs4 (setup.py): started\n",
      "  Building wheel for bs4 (setup.py): finished with status 'done'\n",
      "  Created wheel for bs4: filename=bs4-0.0.1-cp37-none-any.whl size=1278 sha256=c4907715f20950a00f69cbebf30968b3a02cdffff6dab965b74dee1379837164\n",
      "  Stored in directory: C:\\Users\\venkati.naidu\\AppData\\Local\\pip\\Cache\\wheels\\a0\\b0\\b2\\4f80b9456b87abedbc0bf2d52235414c3467d8889be38dd472\n",
      "Successfully built bs4\n",
      "Installing collected packages: bs4\n",
      "Successfully installed bs4-0.0.1\n",
      "Note: you may need to restart the kernel to use updated packages.\n"
     ]
    }
   ],
   "source": [
    "pip install bs4"
   ]
  },
  {
   "cell_type": "code",
   "execution_count": null,
   "metadata": {},
   "outputs": [],
   "source": []
  }
 ],
 "metadata": {
  "kernelspec": {
   "display_name": "Python 3",
   "language": "python",
   "name": "python3"
  },
  "language_info": {
   "codemirror_mode": {
    "name": "ipython",
    "version": 3
   },
   "file_extension": ".py",
   "mimetype": "text/x-python",
   "name": "python",
   "nbconvert_exporter": "python",
   "pygments_lexer": "ipython3",
   "version": "3.8.5"
  }
 },
 "nbformat": 4,
 "nbformat_minor": 4
}
