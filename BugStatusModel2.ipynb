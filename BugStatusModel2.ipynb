{
 "cells": [
  {
   "cell_type": "markdown",
   "metadata": {},
   "source": [
    "# -*- coding: utf-8 -*-\n",
    "\"\"\"\n",
    "Created on Mon Apr 13 14:30:09 2020\n",
    "\n",
    "@author: Venkati Naidu\n",
    "\"\"\""
   ]
  },
  {
   "cell_type": "code",
   "execution_count": 5,
   "metadata": {},
   "outputs": [
    {
     "name": "stdout",
     "output_type": "stream",
     "text": [
      "++++++++++++++++++++++++++++++++++++++++++++++++++\n",
      "                                         Bug_Count\n",
      "Iteration Path        State    Severity           \n",
      "Application Discovery Active   Low               1\n",
      "Down Time Ticker      Active   Low               1\n",
      "                               Medium            1\n",
      "                      Deferred Low               1\n",
      "Regrouping of Tiles   Active   Low               1\n",
      "                      Closed   Low               1\n",
      "                      Deferred Low               2\n",
      "                      In Test  Low               1\n",
      "                      Resolved Low               1\n",
      "Self Support          Active   Low               2\n",
      "                      Deferred Low               2\n",
      "                      In Test  Medium            1\n",
      "++++++++++++++++++++++++++++++++++++++++++++++++++\n"
     ]
    }
   ],
   "source": [
    "import pandas as pd\n",
    "import numpy as mp\n",
    "#import dateutil\n",
    "import random\n",
    "from matplotlib import pyplot\n",
    "\n",
    "def format_the_heading(report):\n",
    "    annotations = ['-','*','+',':','^']\n",
    "    annotate = random.choice(annotations)\n",
    "    \n",
    "    def greeting():\n",
    "        print(annotate * 50)\n",
    "        report()\n",
    "        print(annotate * 50)\n",
    " \n",
    "    return greeting\n",
    "\n",
    "@format_the_heading\n",
    "def Generate_Status_Report():\n",
    "    \n",
    "    includeClosedBugs = True\n",
    "    \n",
    "    df_bugs = pd.read_csv(r'C:\\Users\\venkati.naidu\\hello\\Coursera\\PytonMaterial\\ML\\February Release - Combined3.csv', usecols=['Iteration Path','State','Severity'])[['Iteration Path','State','Severity']]\n",
    "    #df_bugs = pd.read_csv('datasets/Platform - April Release.csv', usecols=['Iteration Path','State','Severity'])[['Iteration Path','State','Severity']]\n",
    "    \n",
    "    df_bugs[\"Iteration Path\"] = df_bugs[\"Iteration Path\"].str.split('\\\\').str[-1]\n",
    "    df_bugs.Severity = df_bugs[\"Severity\"].str.split('- ').str[-1]\n",
    "    \n",
    "    #Filtering the closed records\n",
    "    if not includeClosedBugs:\n",
    "        print(\"Note: Excluded the Closed bugs\")\n",
    "        df_bugs = df_bugs[(df_bugs.State != 'Closed')]\n",
    "        \n",
    "    \n",
    "    #State_n_Severity_ExcludingClosed =df_bugs.groupby([\"Iteration Path\", \"State\",\"Severity\"])[\"Severity\"].count() #.size()\n",
    "    State_n_Severity =df_bugs.groupby([\"Iteration Path\", \"State\",\"Severity\"]).agg(Bug_Count=pd.NamedAgg(column=\"Severity\", aggfunc=\"count\"))\n",
    "    print(State_n_Severity)\n",
    "    \n",
    "    \n",
    "#print_report =format_the_heading(Report)\n",
    "#print_report()\n",
    "    \n",
    "\n",
    "Generate_Status_Report()\n",
    "\n"
   ]
  },
  {
   "cell_type": "code",
   "execution_count": null,
   "metadata": {},
   "outputs": [],
   "source": []
  }
 ],
 "metadata": {
  "kernelspec": {
   "display_name": "Python 3",
   "language": "python",
   "name": "python3"
  },
  "language_info": {
   "codemirror_mode": {
    "name": "ipython",
    "version": 3
   },
   "file_extension": ".py",
   "mimetype": "text/x-python",
   "name": "python",
   "nbconvert_exporter": "python",
   "pygments_lexer": "ipython3",
   "version": "3.7.4"
  }
 },
 "nbformat": 4,
 "nbformat_minor": 4
}
