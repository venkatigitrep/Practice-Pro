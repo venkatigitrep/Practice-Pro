{
 "cells": [
  {
   "cell_type": "raw",
   "metadata": {},
   "source": [
    "# -*- coding: utf-8 -*-\n",
    "\"\"\"\n",
    "Created on Fri Apr 17 19:37:14 2020\n",
    "\n",
    "@author: venkati.naidu\n",
    "\n",
    "The code is to read excel as input, identify the all sheets in excel and then row count\n",
    "Validating the test cases by its mandatory fields\n",
    "Enhancements:\n",
    "1. One column \"Title\" should not more than 256 char width. So validating the width displaying in the report. So that user can minimize the width other test case will be failed to upload.\n",
    "2. All work sheets will be medge into a main sheet\n",
    "\"\"\""
   ]
  },
  {
   "cell_type": "code",
   "execution_count": 7,
   "metadata": {},
   "outputs": [],
   "source": [
    "import pandas as pd\n",
    "import numpy as mp\n",
    "from matplotlib import pyplot"
   ]
  },
  {
   "cell_type": "raw",
   "metadata": {},
   "source": [
    "#print(\"D&A_ PG1\")\n",
    "#df1 = pd.read_excel (r'C:\\Users\\venkati.naidu\\hello\\Test Cases_CMP_April Release.xlsx', sheet_name='D&A_ PG1', usecols=['Test case Title','Area Path','Iteration Path','Initiative','Application','Priority'])\n",
    "#print (df1.count())"
   ]
  },
  {
   "cell_type": "code",
   "execution_count": 36,
   "metadata": {},
   "outputs": [],
   "source": [
    "#Need to specify fields from excel\n",
    "usecols=['Title','Area Path','Iteration Path','Initiative','Priority']"
   ]
  },
  {
   "cell_type": "code",
   "execution_count": 106,
   "metadata": {},
   "outputs": [],
   "source": [
    "\"\"\"\n",
    "Columns to be included/validated in the report\n",
    "\"\"\"\n",
    "\n",
    "#Read the excel file fro the project directory\n",
    "excel_file = r'C:\\Users\\venkati.naidu\\hello\\Coursera\\PytonMaterial\\ML\\Regression Test pack_MaySprint5_V1.1.xlsx'\n",
    "xlsx = pd.ExcelFile(excel_file)\n",
    "\n",
    "#testcases_sheets = [] - Create list of sheet names from the excel sheet\n",
    "#usecols=['Title','Area Path','Iteration Path','Initiative','Priority']\n",
    "#Sl.no\tTitle\tDescription\tArea Path\tIteration Path\tPriority\tSteps\tAction\tExpected Result\tTag\tInitiative\n",
    "#Sl.no\tTitle \tDescription\tArea path\tIteration Path\tPriority\tSteps \tActions\tExpected\tTags\tInitiative\n",
    "\n"
   ]
  },
  {
   "cell_type": "code",
   "execution_count": 107,
   "metadata": {},
   "outputs": [],
   "source": [
    "\"\"\"\n",
    "Below function is to verify the each field count is equal or not\n",
    "\"\"\"\n",
    "\n",
    "def check_tc_count(dfdict_param):\n",
    "        tc_count = True\n",
    "        old_value = 0;\n",
    "        i = 0\n",
    "        for key, value in dfdict_param.items(): \n",
    "         \n",
    "            new_value = value\n",
    "            if old_value == 0 and i == 0:\n",
    "                i+=1\n",
    "                old_value = new_value\n",
    "            elif old_value == new_value:\n",
    "                continue\n",
    "            else:\n",
    "                tc_count = False\n",
    "                break\n",
    "        return tc_count \n",
    "        \n"
   ]
  },
  {
   "cell_type": "code",
   "execution_count": 108,
   "metadata": {},
   "outputs": [],
   "source": [
    "\"\"\" Find the lengthy (i.e. > 250 chars)\"\"\"\n",
    "\n",
    "def found_lengthy_columns(use_case):\n",
    "    df_lengthy_column = use_case[use_case[\"Title Length\"]>256]\n",
    "    if len(df_lengthy_column['Title'])>0:\n",
    "        print(\"Title is too long:\")\n",
    "        print(df_lengthy_column['Title'],df_lengthy_column['Title Length'])\n",
    "        #print (\"{} {}\".format(df_lengthy_column['Title'], df_lengthy_column['Title Length']))\n",
    "        return True\n",
    "    return False   \n"
   ]
  },
  {
   "cell_type": "code",
   "execution_count": 113,
   "metadata": {},
   "outputs": [],
   "source": [
    "def merge_allsheets_in_main_sheet():\n",
    "    all_sheets = pd.DataFrame()\n",
    "    all_sheets = all_sheets.append(pd.read_excel(xlsx), ignore_index=True) # merge all sheets into one DF\n",
    "    all_sheets.reindex()\n",
    "    all_sheets = all_sheets.loc[:, ~all_sheets.columns.str.contains('^Unnamed')] # dropping unnamed columns\n",
    "    all_sheets = all_sheets.drop(all_sheets.columns[[0]], axis=1) # drop first 2 columns\n",
    "    all_sheets =all_sheets.dropna(thresh=1) #Drop row if it does not have at least two values that are **not** NaN\n",
    "    all_sheets.to_excel(final_excel, index = False)\n",
    "    #all_sheets.dropna(axis=0)\n",
    "    all_sheets.head(10)\n",
    "    print(\"Merged Excel Sheets in one main sheet\")\n",
    "    return True"
   ]
  },
  {
   "cell_type": "code",
   "execution_count": 114,
   "metadata": {},
   "outputs": [],
   "source": [
    "final_excel = r'C:\\Users\\venkati.naidu\\hello\\Coursera\\PytonMaterial\\ML\\mergedfile3.xlsx'"
   ]
  },
  {
   "cell_type": "code",
   "execution_count": 115,
   "metadata": {},
   "outputs": [
    {
     "name": "stdout",
     "output_type": "stream",
     "text": [
      "----------------------------------------------------------------------\n",
      "All  : Mondatory fields exist for all test cases\n",
      "***************\n",
      "{'Title': 505, 'Area Path': 505, 'Iteration Path': 505, 'Initiative': 505, 'Priority': 505}\n",
      "Merged Excel Sheets in one main sheet\n",
      "----------------------------------------------------------------------\n",
      "----------------------------------------------------------------------\n",
      "Landing Page  : Mondatory fields exist for all test cases\n",
      "***************\n",
      "{'Title': 65, 'Area Path': 65, 'Iteration Path': 65, 'Initiative': 65, 'Priority': 65}\n",
      "Merged Excel Sheets in one main sheet\n",
      "----------------------------------------------------------------------\n",
      "----------------------------------------------------------------------\n",
      "Deliverables  : Mondatory fields exist for all test cases\n",
      "***************\n",
      "{'Title': 28, 'Area Path': 28, 'Iteration Path': 28, 'Initiative': 28, 'Priority': 28}\n",
      "Merged Excel Sheets in one main sheet\n",
      "----------------------------------------------------------------------\n",
      "----------------------------------------------------------------------\n",
      "Admin Console  : Mondatory fields exist for all test cases\n",
      "***************\n",
      "{'Title': 48, 'Area Path': 48, 'Iteration Path': 48, 'Initiative': 48, 'Priority': 48}\n",
      "Merged Excel Sheets in one main sheet\n",
      "----------------------------------------------------------------------\n",
      "----------------------------------------------------------------------\n",
      "Design Cloud Landscape  : Mondatory fields exist for all test cases\n",
      "***************\n",
      "{'Title': 53, 'Area Path': 53, 'Iteration Path': 53, 'Initiative': 53, 'Priority': 53}\n",
      "Merged Excel Sheets in one main sheet\n",
      "----------------------------------------------------------------------\n",
      "----------------------------------------------------------------------\n",
      "BOM Logics  : Mondatory fields exist for all test cases\n",
      "***************\n",
      "{'Title': 177, 'Area Path': 177, 'Iteration Path': 177, 'Initiative': 177, 'Priority': 177}\n",
      "Merged Excel Sheets in one main sheet\n",
      "----------------------------------------------------------------------\n",
      "----------------------------------------------------------------------\n",
      "Landscape inputs  : Mondatory fields exist for all test cases\n",
      "***************\n",
      "{'Title': 58, 'Area Path': 58, 'Iteration Path': 58, 'Initiative': 58, 'Priority': 58}\n",
      "Merged Excel Sheets in one main sheet\n",
      "----------------------------------------------------------------------\n",
      "----------------------------------------------------------------------\n",
      "Additional Info  : Mondatory fields exist for all test cases\n",
      "***************\n",
      "{'Title': 13, 'Area Path': 13, 'Iteration Path': 13, 'Initiative': 13, 'Priority': 13}\n",
      "Merged Excel Sheets in one main sheet\n",
      "----------------------------------------------------------------------\n",
      "----------------------------------------------------------------------\n",
      "Simplification in BOM table  : Mondatory fields exist for all test cases\n",
      "***************\n",
      "{'Title': 7, 'Area Path': 7, 'Iteration Path': 7, 'Initiative': 7, 'Priority': 7}\n",
      "Merged Excel Sheets in one main sheet\n",
      "----------------------------------------------------------------------\n",
      "----------------------------------------------------------------------\n",
      "Microfocus Integration  : Mondatory fields exist for all test cases\n",
      "***************\n",
      "{'Title': 56, 'Area Path': 56, 'Iteration Path': 56, 'Initiative': 56, 'Priority': 56}\n",
      "Merged Excel Sheets in one main sheet\n",
      "----------------------------------------------------------------------\n"
     ]
    }
   ],
   "source": [
    "\n",
    "for sheet in xlsx.sheet_names:\n",
    "    #testcases_sheets.append(xlsx.parse(sheet)) -- to add sheets into LIST\n",
    "    #all_sheets = pd.concat(testcases_sheets) -- to add multiple sheets\n",
    "\n",
    "    df = xlsx.parse(sheet)\n",
    "    \n",
    " \n",
    "    \"\"\"\n",
    "    Adding column names\n",
    "    \"\"\"\n",
    "    df = df[usecols]\n",
    "    \"\"\"\n",
    "    Counting the columns and storing the each field and respective row count in respective field\n",
    "    \"\"\"\n",
    "    dfdict = dict(df.count())\n",
    "    \n",
    "    \"\"\"\n",
    "    Following code will print the Usecase name (Sheet name) after field validation\n",
    "    \"\"\"\n",
    "    df[\"Title Length\"]= df[\"Title\"].str.len()\n",
    "    if check_tc_count(dfdict):\n",
    "        print('-' * 70)\n",
    "        print(sheet,\" : Mondatory fields exist for all test cases\")\n",
    "        print(\"*\"*15)\n",
    "        print(dfdict)\n",
    "        if not found_lengthy_columns(df): # print test case title if it is too long\n",
    "            merge_allsheets_in_main_sheet()\n",
    "        print('-' * 70)\n",
    "        #all_sheets.append(df, ignore_index=True)\n",
    "    else:\n",
    "        \"\"\"\n",
    "        Print the fields and respective row count if the validation failed\n",
    "        \"\"\"\n",
    "        print('-' * 70)\n",
    "        print(sheet,\" : Test Case FIELD COUNT is NOT matching as below:\")\n",
    "        print('-' * 70)\n",
    "        \n",
    "        print (\"{:<20} {:<20} \".format('Column Title', 'Row Count')) \n",
    "        for key, value in dfdict.items():\n",
    "            print (\"{:<25} {:<25} \".format(key, value))\n",
    "\n",
    "            \n"
   ]
  },
  {
   "cell_type": "code",
   "execution_count": null,
   "metadata": {},
   "outputs": [],
   "source": [
    "\"\"\"\n",
    "This code will import all excel files from the current directory\n",
    "ref:https://pythoninoffice.com/use-python-to-combine-multiple-excel-files/\n",
    "import os\n",
    "import pandas as pd\n",
    "cwd = os.path.abspath('') \n",
    "files = os.listdir(cwd)  \n",
    "df = pd.DataFrame()\n",
    "for file in files:\n",
    "    if file.endswith('.xlsx'):\n",
    "        df = df.append(pd.read_excel(file), ignore_index=True) \n",
    "df.head() \n",
    "df.to_excel('total_sales.xlsx')\n",
    "\"\"\""
   ]
  },
  {
   "cell_type": "code",
   "execution_count": null,
   "metadata": {},
   "outputs": [],
   "source": []
  }
 ],
 "metadata": {
  "kernelspec": {
   "display_name": "Python 3",
   "language": "python",
   "name": "python3"
  },
  "language_info": {
   "codemirror_mode": {
    "name": "ipython",
    "version": 3
   },
   "file_extension": ".py",
   "mimetype": "text/x-python",
   "name": "python",
   "nbconvert_exporter": "python",
   "pygments_lexer": "ipython3",
   "version": "3.7.4"
  }
 },
 "nbformat": 4,
 "nbformat_minor": 4
}
