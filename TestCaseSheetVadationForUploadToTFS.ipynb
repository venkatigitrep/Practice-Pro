{
 "cells": [
  {
   "cell_type": "raw",
   "metadata": {},
   "source": [
    "# -*- coding: utf-8 -*-\n",
    "\"\"\"\n",
    "Created on Fri Apr 17 19:37:14 2020\n",
    "\n",
    "@author: venkati.naidu\n",
    "\n",
    "The code is to read excel as input, identify the all sheets in excel and then row count\n",
    "Validating the test cases by its mandatory fields\n",
    "\"\"\""
   ]
  },
  {
   "cell_type": "code",
   "execution_count": 2,
   "metadata": {},
   "outputs": [],
   "source": [
    "import pandas as pd\n",
    "import numpy as mp\n",
    "from matplotlib import pyplot"
   ]
  },
  {
   "cell_type": "raw",
   "metadata": {},
   "source": [
    "#print(\"D&A_ PG1\")\n",
    "#df1 = pd.read_excel (r'C:\\Users\\venkati.naidu\\hello\\Test Cases_CMP_April Release.xlsx', sheet_name='D&A_ PG1', usecols=['Test case Title','Area Path','Iteration Path','Initiative','Application','Priority'])\n",
    "#print (df1.count())\n",
    "#Microfocus - Online Offline test cases April Release"
   ]
  },
  {
   "cell_type": "code",
   "execution_count": 13,
   "metadata": {},
   "outputs": [],
   "source": [
    "\"\"\"\n",
    "Columns to be included/validated in the report\n",
    "\"\"\"\n",
    "\n",
    "#Read the excel file fro the project directory\n",
    "excel_file = r'C:\\Users\\venkati.naidu\\hello\\Coursera\\PytonMaterial\\ML\\Test Cases_CMP_April Release.xlsx'\n",
    "xlsx = pd.ExcelFile(excel_file)\n",
    "\n",
    "#testcases_sheets = [] - Create list of sheet names from the excel sheet\n",
    "usecols=['Test case Title','Area Path','Iteration Path','Initiative','Application','Priority']\n",
    "\n"
   ]
  },
  {
   "cell_type": "code",
   "execution_count": 14,
   "metadata": {},
   "outputs": [],
   "source": [
    "\"\"\"\n",
    "Below function is to verify the each field count is equal or not\n",
    "\"\"\"\n",
    "\n",
    "def check_tc_count(dfdict_param):\n",
    "        tc_count = True\n",
    "        old_value = 0;\n",
    "        i = 0\n",
    "        for key, value in dfdict_param.items(): \n",
    "         \n",
    "            new_value = value\n",
    "            if old_value == 0 and i == 0:\n",
    "                i+=1\n",
    "                old_value = new_value\n",
    "            elif old_value == new_value:\n",
    "                continue\n",
    "            else:\n",
    "                tc_count = False\n",
    "                break\n",
    "        return tc_count \n",
    "        \n"
   ]
  },
  {
   "cell_type": "code",
   "execution_count": 18,
   "metadata": {},
   "outputs": [
    {
     "name": "stdout",
     "output_type": "stream",
     "text": [
      "--------------------------------------------------\n",
      "All  : Test Case FIELD COUNT is NOT matching as below:\n",
      "--------------------------------------------------\n",
      "Column Title         Row Count            \n",
      "Test case Title           257                       \n",
      "Area Path                 257                       \n",
      "Iteration Path            257                       \n",
      "Initiative                256                       \n",
      "Application               257                       \n",
      "Priority                  257                       \n",
      "--------------------------------------------------\n",
      "D&A_ PG1  : Mondatory fields exist for all test cases\n",
      "--------------------------------------------------\n",
      "--------------------------------------------------\n",
      "D&A_Configure Business Factors  : Mondatory fields exist for all test cases\n",
      "--------------------------------------------------\n",
      "--------------------------------------------------\n",
      "D&A_Assign BF & SBF Importance  : Mondatory fields exist for all test cases\n",
      "--------------------------------------------------\n",
      "--------------------------------------------------\n",
      "D&A_Application Discovery  : Mondatory fields exist for all test cases\n",
      "--------------------------------------------------\n",
      "--------------------------------------------------\n",
      "D&A_Application Assessment  : Mondatory fields exist for all test cases\n",
      "--------------------------------------------------\n",
      "--------------------------------------------------\n",
      "Validation And Enrichment  : Mondatory fields exist for all test cases\n",
      "--------------------------------------------------\n",
      "--------------------------------------------------\n",
      "Planning & Sequencing  : Mondatory fields exist for all test cases\n",
      "--------------------------------------------------\n",
      "--------------------------------------------------\n",
      "Weightage logic  : Mondatory fields exist for all test cases\n",
      "--------------------------------------------------\n",
      "--------------------------------------------------\n",
      "Access Level TCs  : Mondatory fields exist for all test cases\n",
      "--------------------------------------------------\n"
     ]
    }
   ],
   "source": [
    "for sheet in xlsx.sheet_names:\n",
    "    #testcases_sheets.append(xlsx.parse(sheet)) -- to add sheets into LIST\n",
    "    #all_sheets = pd.concat(testcases_sheets) -- to add multiple sheets\n",
    "\n",
    "    df = xlsx.parse(sheet)\n",
    "    \"\"\"\n",
    "    Adding column names\n",
    "    \"\"\"\n",
    "    df = df[usecols]\n",
    "    \n",
    "    \"\"\"\n",
    "    Counting the columns and storing the each field and respective row count in respective field\n",
    "    \"\"\"\n",
    "    dfdict = dict(df.count())\n",
    "    \n",
    "    \"\"\"\n",
    "    Following code will print the Usecase name (Sheet name) after field validation\n",
    "    \"\"\"\n",
    "    if check_tc_count(dfdict):\n",
    "        print('-' * 50)\n",
    "        print(sheet,\" : Mondatory fields exist for all test cases\")\n",
    "        print('-' * 50)\n",
    "    else:\n",
    "        \"\"\"\n",
    "        Print the fields and respective row count if the validation failed\n",
    "        \"\"\"\n",
    "        print('-' * 50)\n",
    "        print(sheet,\" : Test Case FIELD COUNT is NOT matching as below:\")\n",
    "        print('-' * 50)\n",
    "        \n",
    "        print (\"{:<20} {:<20} \".format('Column Title', 'Row Count')) \n",
    "        for key, value in dfdict.items():\n",
    "            print (\"{:<25} {:<25} \".format(key, value))\n",
    "                \n",
    " "
   ]
  }
 ],
 "metadata": {
  "kernelspec": {
   "display_name": "Python 3",
   "language": "python",
   "name": "python3"
  },
  "language_info": {
   "codemirror_mode": {
    "name": "ipython",
    "version": 3
   },
   "file_extension": ".py",
   "mimetype": "text/x-python",
   "name": "python",
   "nbconvert_exporter": "python",
   "pygments_lexer": "ipython3",
   "version": "3.7.4"
  }
 },
 "nbformat": 4,
 "nbformat_minor": 4
}
