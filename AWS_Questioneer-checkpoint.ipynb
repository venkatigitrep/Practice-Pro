{
 "cells": [
  {
   "cell_type": "code",
   "execution_count": 1,
   "metadata": {},
   "outputs": [],
   "source": [
    "import pandas as pd\n",
    "import numpy as mp\n",
    "from matplotlib import pyplot\n",
    "import sys\n",
    "import os\n",
    "import numpy as np"
   ]
  },
  {
   "cell_type": "code",
   "execution_count": 5,
   "metadata": {},
   "outputs": [],
   "source": [
    "#Need to specify fields from excel\n",
    "source_filename = \"questions_all.txt\"\n",
    "#file_path = r\"C:\\\\Users\\\\venkati.naidu\\\\hello\\\\Coursera\\\\PytonMaterial\\\\ML\\\\\" C:\\MyAccOneDrive\\OneDrive - Accenture\\PytonMaterial\\ML\n",
    "file_path = r\"C:\\\\MyAccOneDrive\\\\Python\\\\Projects\\\\AWS_Material\\\\\"\n",
    "source = r'' + file_path + source_filename\n",
    "\n",
    "if not os.path.isfile(source):\n",
    "       print(\"File path {} does not exist. Exiting...\".format(filepath))\n",
    "       sys.exit()    "
   ]
  },
  {
   "cell_type": "code",
   "execution_count": 6,
   "metadata": {},
   "outputs": [],
   "source": [
    "global content\n",
    "with open(source) as fp:\n",
    "        content=''\n",
    "        for line in fp:\n",
    "            if not (line.find('X ') != -1):\n",
    "                content += ' '+line.strip()\n",
    "        #print(\"{}\".format(content))\n"
   ]
  },
  {
   "cell_type": "code",
   "execution_count": 7,
   "metadata": {},
   "outputs": [
    {
     "data": {
      "text/html": [
       "<div>\n",
       "<style scoped>\n",
       "    .dataframe tbody tr th:only-of-type {\n",
       "        vertical-align: middle;\n",
       "    }\n",
       "\n",
       "    .dataframe tbody tr th {\n",
       "        vertical-align: top;\n",
       "    }\n",
       "\n",
       "    .dataframe thead th {\n",
       "        text-align: right;\n",
       "    }\n",
       "</style>\n",
       "<table border=\"1\" class=\"dataframe\">\n",
       "  <thead>\n",
       "    <tr style=\"text-align: right;\">\n",
       "      <th></th>\n",
       "      <th>QNo</th>\n",
       "      <th>QDesc</th>\n",
       "      <th>Answer</th>\n",
       "    </tr>\n",
       "  </thead>\n",
       "  <tbody>\n",
       "    <tr>\n",
       "      <th>256</th>\n",
       "      <td>QUESTION 16</td>\n",
       "      <td>You are a small business startup and wanted to host a website for your business. You purchased a Reserved EC2 instance with all upfront payment with one year commitment. Because of difficulties, the website hosting is given to a third party provider to host the website. As the reserved EC2 instance is not required anymore, what are the options available</td>\n",
       "      <td>the cost for remaining tenure. remaining tenure. Reserved instance purchases cannot be cancelled. But if the business need changes, these reserved instances may be sold in the Reserved Instance Marketplace.</td>\n",
       "    </tr>\n",
       "    <tr>\n",
       "      <th>257</th>\n",
       "      <td>QUESTION 42</td>\n",
       "      <td>Your company recently expressed interest in upgrading to an AWS Support plan that provides infrastructure event management and incident response for the launch of a business-critical application. Which of the following support plans will satisfy your company's requirements</td>\n",
       "      <td>Enterprise</td>\n",
       "    </tr>\n",
       "    <tr>\n",
       "      <th>258</th>\n",
       "      <td>QUESTION 48</td>\n",
       "      <td>Your legal team has just identified a significant confidentiality breach in your web site and you have instructions to take all content down immediately. which of the following statements are correct. Only under certain circumstances will CloudFront invalidations be charged to your account. â€¢Z Versioning object names can be used in place of invalidation if you set it up ahead of time. SPLITEXPLANATION EXPLANATION: While the first 1000 invalidation paths per month are free, additional invalidation paths are charged for per request. There is a limit of 3000 concurrent individual invalidation, however you can stage them or combine then with wildcard path invalidations. It takes time for the invalidation instruction to circulate and pull down content from all edge locations.</td>\n",
       "      <td>None</td>\n",
       "    </tr>\n",
       "    <tr>\n",
       "      <th>259</th>\n",
       "      <td>QUESTION 51</td>\n",
       "      <td>What is the minimum billable object size for S3 â€¢Z 128 KB  SPLITEXPLANATION EXPLANATION: The minimum object size is 0 bytes, however you will be billed for 128 KB. Objects smaller that 128 can still be stored, but will be billed as if they are 128KB.</td>\n",
       "      <td>None</td>\n",
       "    </tr>\n",
       "    <tr>\n",
       "      <th>260</th>\n",
       "      <td>QUESTION 65</td>\n",
       "      <td>You want to track the amount of money you ideally want your company to spend for EC2 data transfers every month. Which of the following actions will accomplish that</td>\n",
       "      <td>â€¢4 Create a Usage budget with AWS Budgets.</td>\n",
       "    </tr>\n",
       "  </tbody>\n",
       "</table>\n",
       "</div>"
      ],
      "text/plain": [
       "              QNo  \\\n",
       "256   QUESTION 16   \n",
       "257   QUESTION 42   \n",
       "258   QUESTION 48   \n",
       "259   QUESTION 51   \n",
       "260   QUESTION 65   \n",
       "\n",
       "                                                                                                                                                                                                                                                                                                                                                                                                                                                                                                                                                                                                                                                                                                                                                                                                                 QDesc  \\\n",
       "256                                                                                                                                                                                                                                                                                                                                                                                                                                                You are a small business startup and wanted to host a website for your business. You purchased a Reserved EC2 instance with all upfront payment with one year commitment. Because of difficulties, the website hosting is given to a third party provider to host the website. As the reserved EC2 instance is not required anymore, what are the options available   \n",
       "257                                                                                                                                                                                                                                                                                                                                                                                                                                                                                                                                  Your company recently expressed interest in upgrading to an AWS Support plan that provides infrastructure event management and incident response for the launch of a business-critical application. Which of the following support plans will satisfy your company's requirements   \n",
       "258   Your legal team has just identified a significant confidentiality breach in your web site and you have instructions to take all content down immediately. which of the following statements are correct. Only under certain circumstances will CloudFront invalidations be charged to your account. â€¢Z Versioning object names can be used in place of invalidation if you set it up ahead of time. SPLITEXPLANATION EXPLANATION: While the first 1000 invalidation paths per month are free, additional invalidation paths are charged for per request. There is a limit of 3000 concurrent individual invalidation, however you can stage them or combine then with wildcard path invalidations. It takes time for the invalidation instruction to circulate and pull down content from all edge locations.    \n",
       "259                                                                                                                                                                                                                                                                                                                                                                                                                                                                                                                                                      What is the minimum billable object size for S3 â€¢Z 128 KB  SPLITEXPLANATION EXPLANATION: The minimum object size is 0 bytes, however you will be billed for 128 KB. Objects smaller that 128 can still be stored, but will be billed as if they are 128KB.    \n",
       "260                                                                                                                                                                                                                                                                                                                                                                                                                                                                                                                                                                                                                                               You want to track the amount of money you ideally want your company to spend for EC2 data transfers every month. Which of the following actions will accomplish that   \n",
       "\n",
       "                                                                                                                                                                                                                Answer  \n",
       "256   the cost for remaining tenure. remaining tenure. Reserved instance purchases cannot be cancelled. But if the business need changes, these reserved instances may be sold in the Reserved Instance Marketplace.    \n",
       "257                                                                                                                                                                                                       Enterprise    \n",
       "258                                                                                                                                                                                                               None  \n",
       "259                                                                                                                                                                                                               None  \n",
       "260                                                                                                                                                                     â€¢4 Create a Usage budget with AWS Budgets.    "
      ]
     },
     "execution_count": 7,
     "metadata": {},
     "output_type": "execute_result"
    }
   ],
   "source": [
    "import re\n",
    "\n",
    "df = pd.DataFrame()\n",
    "content_list = content.replace('QUESTION','SPLITHERE QUESTION')\n",
    "content_list = content_list.replace('EXPLANATION:','SPLITEXPLANATION EXPLANATION:')\n",
    "content_list = content_list.replace('SELECTED ',' ')\n",
    "content_list = content_list.split('SPLITHERE')\n",
    "\n",
    "pd.set_option(\"max_colwidth\", None)\n",
    "s = pd.Series(content_list)\n",
    "\n",
    "df[\"QNo\"] = s.str.slice(stop=12)\n",
    "df[\"QDescTemp\"] = s.str.slice(start=12)\n",
    "df[\"QDesc\"] =df[\"QDescTemp\"].str.split('?', expand=True)[0]\n",
    "df[\"Options\"] = df[\"QDescTemp\"].str.split('?', expand=True)[1]\n",
    "#df = df[df['QDesc'].str.contains(search_question)] \n",
    "\n",
    "df[['Answer','Explanation']] = df.Options.apply( \n",
    "   lambda x: pd.Series(str(x).split(\"SPLITEXPLANATION\")))\n",
    "#df = df.set_index('QDesc')\n",
    "df.replace(to_replace=[None], value=np.nan, inplace=True)\n",
    "df.drop(['QDescTemp','Explanation'], axis=1)\n",
    "df[['QNo', 'QDesc','Answer']].tail()\n"
   ]
  },
  {
   "cell_type": "code",
   "execution_count": 8,
   "metadata": {},
   "outputs": [
    {
     "data": {
      "text/plain": [
       "QNo            261\n",
       "QDescTemp      261\n",
       "QDesc          261\n",
       "Options        252\n",
       "Answer         261\n",
       "Explanation    245\n",
       "dtype: int64"
      ]
     },
     "execution_count": 8,
     "metadata": {},
     "output_type": "execute_result"
    }
   ],
   "source": [
    "#Type your search i.e. it should be the part of question\n",
    "df.count()"
   ]
  },
  {
   "cell_type": "code",
   "execution_count": 9,
   "metadata": {},
   "outputs": [
    {
     "name": "stdout",
     "output_type": "stream",
     "text": [
      "Enter your question :You have been hired\n"
     ]
    }
   ],
   "source": [
    "search_question = input(\"Enter your question :\")\n",
    "\n"
   ]
  },
  {
   "cell_type": "code",
   "execution_count": 10,
   "metadata": {},
   "outputs": [
    {
     "data": {
      "text/html": [
       "<style  type=\"text/css\" >\n",
       "    #T_08eb06ac_83ed_11eb_9acc_c8f750348cc5 th {\n",
       "          text-align: left;\n",
       "    }</style><table id=\"T_08eb06ac_83ed_11eb_9acc_c8f750348cc5\" ><thead>    <tr>        <th class=\"blank level0\" ></th>        <th class=\"col_heading level0 col0\" >QNo</th>        <th class=\"col_heading level0 col1\" >QDesc</th>        <th class=\"col_heading level0 col2\" >Answer</th>    </tr></thead><tbody>\n",
       "        </tbody></table>"
      ],
      "text/plain": [
       "<pandas.io.formats.style.Styler at 0x1cf117905e0>"
      ]
     },
     "execution_count": 10,
     "metadata": {},
     "output_type": "execute_result"
    }
   ],
   "source": [
    "\n",
    "df['FoundAns'] = df['QDesc'].str.contains(pat = search_question, regex=False) \n",
    "df2 = df[df['FoundAns']==True]\n",
    "df2.style.set_properties(**{'text-align': 'left'}).set_table_styles([ dict(selector='th', props=[('text-align', 'left')] ) ])\n",
    "df2[['QNo','QDesc','Answer']].head(10).style.set_properties(**{'text-align': 'left'}).set_table_styles([ dict(selector='th', props=[('text-align', 'left')] ) ])"
   ]
  },
  {
   "cell_type": "code",
   "execution_count": null,
   "metadata": {},
   "outputs": [],
   "source": []
  }
 ],
 "metadata": {
  "kernelspec": {
   "display_name": "Python 3",
   "language": "python",
   "name": "python3"
  },
  "language_info": {
   "codemirror_mode": {
    "name": "ipython",
    "version": 3
   },
   "file_extension": ".py",
   "mimetype": "text/x-python",
   "name": "python",
   "nbconvert_exporter": "python",
   "pygments_lexer": "ipython3",
   "version": "3.8.5"
  }
 },
 "nbformat": 4,
 "nbformat_minor": 4
}
